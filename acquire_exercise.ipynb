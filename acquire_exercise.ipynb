{
 "cells": [
  {
   "cell_type": "markdown",
   "metadata": {},
   "source": [
    "## Data Acquisition Exercises"
   ]
  },
  {
   "cell_type": "markdown",
   "metadata": {},
   "source": [
    "### Problem 1: Get some blog articles from a few addresses, put them in a function called get_blog_articles()\n",
    "#### Approach: Do the thing once, do it in a loop, do the loop in a function"
   ]
  },
  {
   "cell_type": "markdown",
   "metadata": {},
   "source": [
    "### Tools we will use:\n",
    "    1. Browser inspector (command + option + i), right-click inspect element, right-click copy css selector\n",
    "    2. Beautiful Soup to Parse page\n",
    "### Find and select tips:\n",
    "- To find elements with the class=\"link\", `<a href=\"codeup.com\" class=\"link\">Codeup.com</a>`, we use:\n",
    "    - If you're using soup.find, you can use \"_class=link\" in your arguments\n",
    "    - If we use soup.select, we can put `.link` in soup.select(\".link\")\n",
    "- Some other CSS selectors to use with .select:\n",
    "    - .class_name\n",
    "    - #id_name, and IDs are unique to a page\n",
    "    - tag selectors. If we do `soup.select(\"a\")`, we'll get back a list of all the anchor tags\n",
    "\n",
    "- main, header, footer, section, article, div are generic containers for content. These are boxes of content\n",
    "- anchor tag, strong, or a span is an in-line chunk of content"
   ]
  },
  {
   "cell_type": "code",
   "execution_count": 4,
   "metadata": {},
   "outputs": [],
   "source": [
    "from requests import get\n",
    "from bs4 import BeautifulSoup\n",
    "import pandas as pd"
   ]
  },
  {
   "cell_type": "markdown",
   "metadata": {},
   "source": [
    "### Build upward in complexity!\n",
    "- 1. Do our desired thing once, and put that in a function\n",
    "- 2. Use that function in a loop\n",
    "- 3. Put that loop in a function"
   ]
  },
  {
   "cell_type": "code",
   "execution_count": 21,
   "metadata": {},
   "outputs": [],
   "source": [
    "url = 'https://codeup.com/data-science-myths/'\n",
    "\n",
    "# # Set the user agent to reflect relatively ancient software just for fun\n",
    "headers = {\"User-Agent\": \"Mozilla/4.5 (compatible; HTTrack 3.0x; Windows 98)\"}\n",
    "\n",
    "# # Get the http response object from the server\n",
    "response = get(url, headers=headers)"
   ]
  },
  {
   "cell_type": "code",
   "execution_count": 22,
   "metadata": {},
   "outputs": [
    {
     "data": {
      "text/plain": [
       "'<!DOCTYPE html><html lang=\"en-US\"><head >\\t<meta charset=\"UTF-8\" />\\n\\t<meta name=\"viewport\" content=\"width=device-width, initial-scale=1\" />\\n\\t<meta name=\\'robots\\' content=\\'index, follow, max-image-preview:large, max-snippet:-1, max-video-preview:-1\\' />\\n<style type=\"text/css\" id=\"nab-alternative-loader-'"
      ]
     },
     "execution_count": 22,
     "metadata": {},
     "output_type": "execute_result"
    }
   ],
   "source": [
    "# # The raw_html produced is a string version of running \"view-source\" on the url\n",
    "# # Compare this raw_html to view-source\n",
    "raw_html = response.text\n",
    "raw_html[0:300]"
   ]
  },
  {
   "cell_type": "code",
   "execution_count": 23,
   "metadata": {},
   "outputs": [],
   "source": [
    "# # Turn the raw html string into a BeautifulSoup object\n",
    "soup = BeautifulSoup(raw_html)"
   ]
  },
  {
   "cell_type": "code",
   "execution_count": 24,
   "metadata": {},
   "outputs": [],
   "source": [
    "# soup.find to find one thing\n",
    "# soup.find_all to find all the matching things\n",
    "# soup.select to find all the matching things (as a list of tags)"
   ]
  },
  {
   "cell_type": "code",
   "execution_count": 25,
   "metadata": {},
   "outputs": [
    {
     "data": {
      "text/plain": [
       "'Data Science Myths'"
      ]
     },
     "execution_count": 25,
     "metadata": {},
     "output_type": "execute_result"
    }
   ],
   "source": [
    "# # Let's get the title\n",
    "# # h1 on its own works here, but not necessisarily everywhere. Pages can have > 1 h1 tag\n",
    "title = soup.find('h1').text\n",
    "title"
   ]
  },
  {
   "cell_type": "code",
   "execution_count": 26,
   "metadata": {},
   "outputs": [],
   "source": [
    "# # If we wanted to be more specific\n",
    "# # Give me the h1 that also has the jupiterx-post-title class\n",
    "title = soup.select('.jupiterx-post-title')[0].text"
   ]
  },
  {
   "cell_type": "code",
   "execution_count": 27,
   "metadata": {},
   "outputs": [
    {
     "data": {
      "text/plain": [
       "'Data Science Myths'"
      ]
     },
     "execution_count": 27,
     "metadata": {},
     "output_type": "execute_result"
    }
   ],
   "source": [
    "title"
   ]
  },
  {
   "cell_type": "code",
   "execution_count": 28,
   "metadata": {},
   "outputs": [],
   "source": [
    "content = soup.select('.jupiterx-post-content')[0].text"
   ]
  },
  {
   "cell_type": "code",
   "execution_count": 29,
   "metadata": {},
   "outputs": [
    {
     "data": {
      "text/plain": [
       "'By Dimitri Antoniou and Maggie Giust\\nData Science, Big Data, Machine Learning, NLP, Neural Networks…these buzzwords have rapidly spread into mainstream use over the last few years. Unfortunately, definitions are varied and sources of truth are limited. Data Scientists are in fact not magical unicorn wizards who can snap their fingers and turn a business around! Today, we’ll take a cue from our favorite Mythbusters to tackle some common myths and misconceptions in the field of Data Science.\\n\\xa0\\nMyth #1: Data Science = Statistics\\nAt first glance, this one doesn’t sound unreasonable. Statistics is defined as, “A branch of mathematics dealing with the collection, analysis, interpretation, and presentation of masses of numerical data.” That sounds a lot like our definition of Data Science: a method of drawing actionable intelligence from data. \\nIn truth, statistics is actually one small piece of Data Science. As our Senior Data Scientist puts it, “Statistics forces us to make assumptions about the nature of the relationship between variables, the distribution of the data, etc.” In the traditional Data Science venn diagram, you’ll see that math/stats make up ⅓ of a working professional. These are tools and skills to leverage, but data science itself is about drawing intelligence from data.\\nBUSTED\\n\\nvia GIPHY\\n\\xa0\\nMyth #2: Data Scientist = Business/Data Analyst\\nThis one is so common that we wrote a whole post about it! These are separate and different roles within the data field. While a data scientist will often do analytics, their spectrum of work is wider. A data analyst will use structured data to create dashboards and KPIs, while a Data Scientist deals with unstructured and messy data for a range of outputs. If they’re interested, business analysts will often progress to data scientists.\\nBUSTED\\n\\nvia GIPHY\\n\\xa0\\nMyth #3: Data Science = Data Science\\nThis one’s tricky, because it’s impossible to either confirm or bust! The ‘myth’ is that one person or company using the term Data Science is not necessarily the same as another person or company using the same term. Depending on organizational capacity, individual experience, educational background, and many other variables, we might be using the same name for different animals.\\nTl;dr: don’t assume a common understanding across hiring managers, recruiters, and practitioners. Look instead for specifics of tools, techniques, methodologies, and outputs. That being said, this one falls in the “plausible” category, because it may actually be true in some circumstances, while false in others.\\nPLAUSIBLE\\n\\nvia GIPHY\\n\\xa0\\nMyth #4: Data Science curricula are well-defined and consistent.\\nWe recommend checking this one out for yourself! A quick google search for bootcamps, master’s degree programs, and online courses will reveal that different organizations teach different things. There is no commonly accepted framework for teaching data science! Some focus more on the engineering, others focus more on machine learning, some think deep learning is foundational, and some prefer to use R. \\nOur curriculum was built through employer interviews, practitioner interviews, market research, and company partnerships. But we’re based in Texas! A bootcamp in New York might follow the same process and end up with a different syllabus. Keep in mind, whatever your learning path, that there will be gaps in your learning. The most important thing is to recognize those gaps.\\nBUSTED\\n\\nvia GIPHY\\n\\xa0\\nMyth #5: If I want to be a data scientist, I just need to learn Python or R.\\nThis one is common and dangerous! Just like statistics, programming languages like Python and R are tools. They’re just pieces of a larger puzzle! Knowing Python without understanding the data science pipeline is like knowing how to build a floor without having a floor plan. Of course, these are valuable technical skills that give you a leg up, but they’re second in importance to asking the right questions, knowing what tools to use when, and communicating your findings.\\nBUSTED\\n\\nvia GIPHY\\nStill have questions? Reach out to us! We’re always here to help.\\n\\n'"
      ]
     },
     "execution_count": 29,
     "metadata": {},
     "output_type": "execute_result"
    }
   ],
   "source": [
    "content"
   ]
  },
  {
   "cell_type": "code",
   "execution_count": null,
   "metadata": {},
   "outputs": [],
   "source": [
    "# # Each piece of soup we access is another soup object with the same methods and properties available\n",
    "# # soup.element.text\n",
    "# soup.time.text"
   ]
  },
  {
   "cell_type": "code",
   "execution_count": null,
   "metadata": {},
   "outputs": [],
   "source": [
    "# soup.element[\"attribute_name\"]\n",
    "# If you have an attribute name and need that attribute's value, then we use dictionary syntax\n",
    "# soup.time[\"datetime\"]"
   ]
  },
  {
   "cell_type": "code",
   "execution_count": 30,
   "metadata": {},
   "outputs": [
    {
     "data": {
      "text/plain": [
       "'https://codeup.com/wp-content/uploads/2018/10/Blog_DSBustMyth_1200x628.png'"
      ]
     },
     "execution_count": 30,
     "metadata": {},
     "output_type": "execute_result"
    }
   ],
   "source": [
    "# # soup.select(\"img\") is wayyy to broad, since it returns every image on the page\n",
    "# # so we need to get to know our data, our html structure\n",
    "# # Let's get more specific\n",
    "div_for_image = soup.select('.jupiterx-post-image')[0]\n",
    "image_src = div_for_image.picture.img['data-src']\n",
    "image_src"
   ]
  },
  {
   "cell_type": "code",
   "execution_count": 34,
   "metadata": {},
   "outputs": [],
   "source": [
    "# Make a function that works on a single url\n",
    "# Make sure your function has everything it needs inside (try to avoid globals)\n",
    "\n",
    "def get_codeup_blog(url):\n",
    "    \n",
    "    # Set the headers to show as Netscape Navigator on Windows 98, b/c I feel like creating an anomaly in the logs\n",
    "    headers = {\"User-Agent\": \"Mozilla/4.5 (compatible; HTTrack 3.0x; Windows 98)\"}\n",
    "\n",
    "    # Get the http response object from the server\n",
    "    response = get(url, headers=headers)\n",
    "    \n",
    "    soup = BeautifulSoup(response.text)\n",
    "    \n",
    "    title = soup.find(\"h1\").text\n",
    "    published_date = soup.time.text\n",
    "    \n",
    "    if len(soup.select(\".jupiterx-post-image\")) > 0:\n",
    "        blog_image = soup.select(\".jupiterx-post-image\")[0].picture.img[\"data-src\"]\n",
    "    else:\n",
    "        blog_image = None\n",
    "        \n",
    "    content = soup.select(\".jupiterx-post-content\")[0].text\n",
    "    \n",
    "    output = {}\n",
    "    output[\"title\"] = title\n",
    "    output[\"published_date\"] = published_date\n",
    "    output[\"blog_image\"] = blog_image\n",
    "    output[\"content\"] = content\n",
    "    \n",
    "    return output"
   ]
  },
  {
   "cell_type": "code",
   "execution_count": 31,
   "metadata": {},
   "outputs": [],
   "source": [
    "def get_blog_articles(urls):\n",
    "    # List of dictionaries\n",
    "    posts = [get_codeup_blog(url) for url in urls]\n",
    "    \n",
    "    return pd.DataFrame(posts)"
   ]
  },
  {
   "cell_type": "code",
   "execution_count": 32,
   "metadata": {},
   "outputs": [],
   "source": [
    "urls = [\n",
    "    \"https://codeup.com/codeups-data-science-career-accelerator-is-here/\",\n",
    "    \"https://codeup.com/data-science-myths/\",\n",
    "    \"https://codeup.com/data-science-vs-data-analytics-whats-the-difference/\",\n",
    "    \"https://codeup.com/10-tips-to-crush-it-at-the-sa-tech-job-fair/\",\n",
    "    \"https://codeup.com/competitor-bootcamps-are-closing-is-the-model-in-danger/\"\n",
    "]"
   ]
  },
  {
   "cell_type": "code",
   "execution_count": 35,
   "metadata": {},
   "outputs": [],
   "source": [
    "df = get_blog_articles(urls)"
   ]
  },
  {
   "cell_type": "code",
   "execution_count": 36,
   "metadata": {},
   "outputs": [
    {
     "data": {
      "text/html": [
       "<div>\n",
       "<style scoped>\n",
       "    .dataframe tbody tr th:only-of-type {\n",
       "        vertical-align: middle;\n",
       "    }\n",
       "\n",
       "    .dataframe tbody tr th {\n",
       "        vertical-align: top;\n",
       "    }\n",
       "\n",
       "    .dataframe thead th {\n",
       "        text-align: right;\n",
       "    }\n",
       "</style>\n",
       "<table border=\"1\" class=\"dataframe\">\n",
       "  <thead>\n",
       "    <tr style=\"text-align: right;\">\n",
       "      <th></th>\n",
       "      <th>title</th>\n",
       "      <th>published_date</th>\n",
       "      <th>blog_image</th>\n",
       "      <th>content</th>\n",
       "    </tr>\n",
       "  </thead>\n",
       "  <tbody>\n",
       "    <tr>\n",
       "      <th>0</th>\n",
       "      <td>Codeup’s Data Science Career Accelerator is Here!</td>\n",
       "      <td>September 30, 2018</td>\n",
       "      <td>https://codeup.com/wp-content/uploads/2018/10/...</td>\n",
       "      <td>The rumors are true! The time has arrived. Cod...</td>\n",
       "    </tr>\n",
       "    <tr>\n",
       "      <th>1</th>\n",
       "      <td>Data Science Myths</td>\n",
       "      <td>October 31, 2018</td>\n",
       "      <td>https://codeup.com/wp-content/uploads/2018/10/...</td>\n",
       "      <td>By Dimitri Antoniou and Maggie Giust\\nData Sci...</td>\n",
       "    </tr>\n",
       "    <tr>\n",
       "      <th>2</th>\n",
       "      <td>Data Science VS Data Analytics: What’s The Dif...</td>\n",
       "      <td>October 17, 2018</td>\n",
       "      <td>https://codeup.com/wp-content/uploads/2018/10/...</td>\n",
       "      <td>By Dimitri Antoniou\\nA week ago, Codeup launch...</td>\n",
       "    </tr>\n",
       "    <tr>\n",
       "      <th>3</th>\n",
       "      <td>10 Tips to Crush It at the SA Tech Job Fair</td>\n",
       "      <td>August 14, 2018</td>\n",
       "      <td>None</td>\n",
       "      <td>SA Tech Job Fair\\nThe third bi-annual San Anto...</td>\n",
       "    </tr>\n",
       "    <tr>\n",
       "      <th>4</th>\n",
       "      <td>Competitor Bootcamps Are Closing. Is the Model...</td>\n",
       "      <td>August 14, 2018</td>\n",
       "      <td>None</td>\n",
       "      <td>Competitor Bootcamps Are Closing. Is the Model...</td>\n",
       "    </tr>\n",
       "  </tbody>\n",
       "</table>\n",
       "</div>"
      ],
      "text/plain": [
       "                                               title      published_date  \\\n",
       "0  Codeup’s Data Science Career Accelerator is Here!  September 30, 2018   \n",
       "1                                 Data Science Myths    October 31, 2018   \n",
       "2  Data Science VS Data Analytics: What’s The Dif...    October 17, 2018   \n",
       "3        10 Tips to Crush It at the SA Tech Job Fair     August 14, 2018   \n",
       "4  Competitor Bootcamps Are Closing. Is the Model...     August 14, 2018   \n",
       "\n",
       "                                          blog_image  \\\n",
       "0  https://codeup.com/wp-content/uploads/2018/10/...   \n",
       "1  https://codeup.com/wp-content/uploads/2018/10/...   \n",
       "2  https://codeup.com/wp-content/uploads/2018/10/...   \n",
       "3                                               None   \n",
       "4                                               None   \n",
       "\n",
       "                                             content  \n",
       "0  The rumors are true! The time has arrived. Cod...  \n",
       "1  By Dimitri Antoniou and Maggie Giust\\nData Sci...  \n",
       "2  By Dimitri Antoniou\\nA week ago, Codeup launch...  \n",
       "3  SA Tech Job Fair\\nThe third bi-annual San Anto...  \n",
       "4  Competitor Bootcamps Are Closing. Is the Model...  "
      ]
     },
     "execution_count": 36,
     "metadata": {},
     "output_type": "execute_result"
    }
   ],
   "source": [
    "df.head()"
   ]
  },
  {
   "cell_type": "markdown",
   "metadata": {},
   "source": [
    "### Problem 2: Get some news articles from inshorts.com from various categories\n",
    "#### layers from granular to macro:\n",
    "\n",
    "#### Pages (categories) -> cards (articles) -> card content article\n",
    "\n",
    "We want to get all the content on each card for each category, and will build up that way."
   ]
  },
  {
   "cell_type": "code",
   "execution_count": 39,
   "metadata": {},
   "outputs": [],
   "source": [
    "categories = [\"business\", \"sports\", \"technology\", \"entertainment\", \"science\", \"world\"]\n",
    "\n",
    "\n"
   ]
  },
  {
   "cell_type": "code",
   "execution_count": 40,
   "metadata": {},
   "outputs": [],
   "source": [
    "base_url = 'https://inshorts.com/en/read/'"
   ]
  },
  {
   "cell_type": "code",
   "execution_count": 41,
   "metadata": {},
   "outputs": [],
   "source": [
    "first_cat = categories[0]"
   ]
  },
  {
   "cell_type": "code",
   "execution_count": 42,
   "metadata": {},
   "outputs": [],
   "source": [
    "first_page = base_url + first_cat"
   ]
  },
  {
   "cell_type": "code",
   "execution_count": 43,
   "metadata": {},
   "outputs": [
    {
     "data": {
      "text/plain": [
       "'https://inshorts.com/en/read/business'"
      ]
     },
     "execution_count": 43,
     "metadata": {},
     "output_type": "execute_result"
    }
   ],
   "source": [
    "first_page"
   ]
  },
  {
   "cell_type": "code",
   "execution_count": 44,
   "metadata": {},
   "outputs": [
    {
     "data": {
      "text/plain": [
       "{'User-Agent': 'Mozilla/4.5 (compatible; HTTrack 3.0x; Windows 98)'}"
      ]
     },
     "execution_count": 44,
     "metadata": {},
     "output_type": "execute_result"
    }
   ],
   "source": [
    "headers"
   ]
  },
  {
   "cell_type": "code",
   "execution_count": 45,
   "metadata": {},
   "outputs": [],
   "source": [
    "# step one: get our content\n",
    "response = get(first_page, headers=headers)"
   ]
  },
  {
   "cell_type": "code",
   "execution_count": 48,
   "metadata": {},
   "outputs": [
    {
     "data": {
      "text/plain": [
       "'<!doctype html>\\n<html lang=\"en\">\\n\\n<head>\\n  <meta charset=\"utf-8\" />\\n  <style>\\n    /* The Modal (background) */\\n    .modal_contact {\\n        display: none; /* Hidden by default */\\n        position: fixed; /* Stay in place */\\n        z-index: 8; /* Sit on top */\\n        left: 0;\\n        top: 0;\\n        width: 100%; /* Full width */\\n        height: 100%;\\n        overflow: auto; /* Enable scroll if ne'"
      ]
     },
     "execution_count": 48,
     "metadata": {},
     "output_type": "execute_result"
    }
   ],
   "source": [
    "response.text[:400]"
   ]
  },
  {
   "cell_type": "code",
   "execution_count": 49,
   "metadata": {},
   "outputs": [],
   "source": [
    "# make our soup\n",
    "soup = BeautifulSoup(response.text)"
   ]
  },
  {
   "cell_type": "code",
   "execution_count": 53,
   "metadata": {},
   "outputs": [],
   "source": [
    "articles = soup.select('.news-card')"
   ]
  },
  {
   "cell_type": "code",
   "execution_count": 54,
   "metadata": {},
   "outputs": [
    {
     "data": {
      "text/plain": [
       "<div class=\"news-card z-depth-1\" itemscope=\"\" itemtype=\"http://schema.org/NewsArticle\">\n",
       "<span content=\"\" itemid=\"https://inshorts.com/en/news/chinas-exteacher-turned-billionaire-no-more-a-billionaire-as-shares-fall-98-1627290782038\" itemprop=\"mainEntityOfPage\" itemscope=\"\" itemtype=\"https://schema.org/WebPage\"></span>\n",
       "<span itemprop=\"author\" itemscope=\"itemscope\" itemtype=\"https://schema.org/Person\">\n",
       "<span content=\"Pragya Swastik\" itemprop=\"name\"></span>\n",
       "</span>\n",
       "<span content=\"China's ex-teacher turned billionaire no more a billionaire as shares fall 98%\" itemprop=\"description\"></span>\n",
       "<span itemprop=\"image\" itemscope=\"\" itemtype=\"https://schema.org/ImageObject\">\n",
       "<meta content=\"https://static.inshorts.com/inshorts/images/v1/variants/jpg/m/2021/07_jul/26_mon/img_1627289502940_772.jpg?\" itemprop=\"url\"/>\n",
       "<meta content=\"864\" itemprop=\"width\"/>\n",
       "<meta content=\"483\" itemprop=\"height\"/>\n",
       "</span>\n",
       "<span itemprop=\"publisher\" itemscope=\"itemscope\" itemtype=\"https://schema.org/Organization\">\n",
       "<span content=\"https://inshorts.com/\" itemprop=\"url\"></span>\n",
       "<span content=\"Inshorts\" itemprop=\"name\"></span>\n",
       "<span itemprop=\"logo\" itemscope=\"\" itemtype=\"https://schema.org/ImageObject\">\n",
       "<span content=\"https://assets.inshorts.com/inshorts/images/v1/variants/jpg/m/2018/11_nov/21_wed/img_1542823931298_497.jpg\" itemprop=\"url\"></span>\n",
       "<meta content=\"400\" itemprop=\"width\"/>\n",
       "<meta content=\"60\" itemprop=\"height\"/>\n",
       "</span>\n",
       "</span>\n",
       "<div class=\"news-card-image\" style=\"background-image: url('https://static.inshorts.com/inshorts/images/v1/variants/jpg/m/2021/07_jul/26_mon/img_1627289502940_772.jpg?')\">\n",
       "</div>\n",
       "<div class=\"news-card-title news-right-box\">\n",
       "<a class=\"clickable\" href=\"/en/news/chinas-exteacher-turned-billionaire-no-more-a-billionaire-as-shares-fall-98-1627290782038\" onclick=\"track_GA_Mixpanel({'hitType': 'event', 'category': 'TitleOfNews', 'action': 'clicked', 'label': 'China's%20ex-teacher%20turned%20billionaire%20no%20more%20a%20billionaire%20as%20shares%20fall%2098%25)' });\" style=\"color:#44444d!important\">\n",
       "<span itemprop=\"headline\">China's ex-teacher turned billionaire no more a billionaire as shares fall 98%</span>\n",
       "</a>\n",
       "<div class=\"news-card-author-time news-card-author-time-in-title\">\n",
       "<a href=\"/prev/en/news/chinas-exteacher-turned-billionaire-no-more-a-billionaire-as-shares-fall-98-1627290782038\"><span class=\"short\">short</span></a> by <span class=\"author\">Pragya Swastik</span> / \n",
       "      <span class=\"time\" content=\"2021-07-26T09:13:02.000Z\" itemprop=\"datePublished\">02:43 pm</span> on <span clas=\"date\">26 Jul 2021,Monday</span>\n",
       "</div>\n",
       "</div>\n",
       "<div class=\"news-card-content news-right-box\">\n",
       "<div itemprop=\"articleBody\">China's Larry Chen, a former teacher who became a billionaire with edtech company Gaotu Techedu, lost his billionaire status after his company's shares fell 98%. Chen, Gaotu Techedu's Founder and CEO, is now worth $336 million according to Bloomberg. The development comes as China's new regulations banned companies teaching school curriculums from making profits, raising capital or going public.</div>\n",
       "<div class=\"news-card-author-time news-card-author-time-in-content\">\n",
       "<a href=\"/prev/en/news/chinas-exteacher-turned-billionaire-no-more-a-billionaire-as-shares-fall-98-1627290782038\"><span class=\"short\">short</span></a> by <span class=\"author\">Pragya Swastik</span> / \n",
       "      <span class=\"time\" content=\"2021-07-26T09:13:02.000Z\" itemprop=\"dateModified\">02:43 pm</span> on <span class=\"date\">26 Jul</span>\n",
       "</div>\n",
       "</div>\n",
       "<div class=\"news-card-footer news-right-box\">\n",
       "<div class=\"read-more\">read more at <a class=\"source\" href=\"https://www.bloombergquint.com/markets/chinese-education-tycoon-loses-15-billion-as-shares-plunge-98?utm_campaign=fullarticle&amp;utm_medium=referral&amp;utm_source=inshorts \" onclick=\"track_GA_Mixpanel({'hitType': 'event', 'category': 'ReadMore', 'action': 'clicked', 'label': 'BloombergQuint' });\" target=\"_blank\">BloombergQuint</a></div>\n",
       "</div>\n",
       "</div>"
      ]
     },
     "execution_count": 54,
     "metadata": {},
     "output_type": "execute_result"
    }
   ],
   "source": [
    "articles[0]"
   ]
  },
  {
   "cell_type": "code",
   "execution_count": 61,
   "metadata": {},
   "outputs": [
    {
     "data": {
      "text/plain": [
       "<div itemprop=\"articleBody\">A new job posting by Amazon has fuelled speculations that the e-commerce major may begin accepting Bitcoin, Ether and other cryptocurrencies as a form of payment. According to the job posting, Amazon's Payments Acceptance &amp; Experience team is hiring a 'Digital Currency and Blockchain Product Lead'. Following the speculations around Amazon's plan, Bitcoin surged near $40,000 on Monday.</div>"
      ]
     },
     "execution_count": 61,
     "metadata": {},
     "output_type": "execute_result"
    }
   ],
   "source": [
    "articles[1].select(\"[itemprop='articleBody']\")[0]"
   ]
  },
  {
   "cell_type": "code",
   "execution_count": null,
   "metadata": {},
   "outputs": [],
   "source": []
  },
  {
   "cell_type": "code",
   "execution_count": null,
   "metadata": {},
   "outputs": [],
   "source": []
  },
  {
   "cell_type": "code",
   "execution_count": null,
   "metadata": {},
   "outputs": [],
   "source": []
  },
  {
   "cell_type": "code",
   "execution_count": null,
   "metadata": {},
   "outputs": [],
   "source": []
  },
  {
   "cell_type": "code",
   "execution_count": 62,
   "metadata": {},
   "outputs": [],
   "source": [
    "def get_article(article, category):\n",
    "    # Attribute selector\n",
    "    title = article.select(\"[itemprop='headline']\")[0].text\n",
    "    \n",
    "    # article body\n",
    "    content = article.select(\"[itemprop='articleBody']\")[0].text\n",
    "    \n",
    "    output = {}\n",
    "    output[\"title\"] = title\n",
    "    output[\"content\"] = content\n",
    "    output[\"category\"] = category\n",
    "    \n",
    "    return output"
   ]
  },
  {
   "cell_type": "code",
   "execution_count": 63,
   "metadata": {},
   "outputs": [],
   "source": [
    "def get_articles(category, base =\"https://inshorts.com/en/read/\"):\n",
    "    \"\"\"\n",
    "    This function takes in a category as a string. Category must be an available category in inshorts\n",
    "    Returns a list of dictionaries where each dictionary represents a single inshort article\n",
    "    \"\"\"\n",
    "    \n",
    "    # We concatenate our base_url with the category\n",
    "    url = base + category\n",
    "    \n",
    "    # Set the headers\n",
    "    headers = {\"User-Agent\": \"Mozilla/4.5 (compatible; HTTrack 3.0x; Windows 98)\"}\n",
    "\n",
    "    # Get the http response object from the server\n",
    "    response = get(url, headers=headers)\n",
    "\n",
    "    # Make soup out of the raw html\n",
    "    soup = BeautifulSoup(response.text)\n",
    "    \n",
    "    # Ignore everything, focusing only on the news cards\n",
    "    articles = soup.select(\".news-card\")\n",
    "    \n",
    "    output = []\n",
    "    \n",
    "    # Iterate through every article tag/soup \n",
    "    for article in articles:\n",
    "        \n",
    "        # Returns a dictionary of the article's title, body, and category\n",
    "        article_data = get_article(article, category) \n",
    "        \n",
    "        # Append the dictionary to the list\n",
    "        output.append(article_data)\n",
    "    \n",
    "    # Return the list of dictionaries\n",
    "    return output\n",
    "    "
   ]
  },
  {
   "cell_type": "code",
   "execution_count": null,
   "metadata": {},
   "outputs": [],
   "source": [
    "# Example of using the get_articles function sending in the category name that's part of the URL\n",
    "# get_articles(\"business\")"
   ]
  },
  {
   "cell_type": "code",
   "execution_count": 64,
   "metadata": {},
   "outputs": [],
   "source": [
    "def get_all_news_articles(categories):\n",
    "    \"\"\"\n",
    "    Takes in a list of categories where the category is part of the URL pattern on inshorts\n",
    "    Returns a dataframe of every article from every category listed\n",
    "    Each row in the dataframe is a single article\n",
    "    \"\"\"\n",
    "    all_inshorts = []\n",
    "\n",
    "    for category in categories:\n",
    "        all_category_articles = get_articles(category)\n",
    "        all_inshorts = all_inshorts + all_category_articles\n",
    "\n",
    "    df = pd.DataFrame(all_inshorts)\n",
    "    return df"
   ]
  },
  {
   "cell_type": "code",
   "execution_count": 65,
   "metadata": {},
   "outputs": [],
   "source": [
    "categories = [\"business\", \"sports\", \"technology\", \"entertainment\", \"science\", \"world\"]\n",
    "df = get_all_news_articles(categories)"
   ]
  },
  {
   "cell_type": "code",
   "execution_count": 66,
   "metadata": {},
   "outputs": [
    {
     "data": {
      "text/html": [
       "<div>\n",
       "<style scoped>\n",
       "    .dataframe tbody tr th:only-of-type {\n",
       "        vertical-align: middle;\n",
       "    }\n",
       "\n",
       "    .dataframe tbody tr th {\n",
       "        vertical-align: top;\n",
       "    }\n",
       "\n",
       "    .dataframe thead th {\n",
       "        text-align: right;\n",
       "    }\n",
       "</style>\n",
       "<table border=\"1\" class=\"dataframe\">\n",
       "  <thead>\n",
       "    <tr style=\"text-align: right;\">\n",
       "      <th></th>\n",
       "      <th>title</th>\n",
       "      <th>content</th>\n",
       "      <th>category</th>\n",
       "    </tr>\n",
       "  </thead>\n",
       "  <tbody>\n",
       "    <tr>\n",
       "      <th>0</th>\n",
       "      <td>China's ex-teacher turned billionaire no more ...</td>\n",
       "      <td>China's Larry Chen, a former teacher who becam...</td>\n",
       "      <td>business</td>\n",
       "    </tr>\n",
       "    <tr>\n",
       "      <th>1</th>\n",
       "      <td>Amazon job posting fuels speculations about pl...</td>\n",
       "      <td>A new job posting by Amazon has fuelled specul...</td>\n",
       "      <td>business</td>\n",
       "    </tr>\n",
       "    <tr>\n",
       "      <th>2</th>\n",
       "      <td>Musk takes a jibe at rival car companies, says...</td>\n",
       "      <td>Tesla CEO and the world's second-richest perso...</td>\n",
       "      <td>business</td>\n",
       "    </tr>\n",
       "    <tr>\n",
       "      <th>3</th>\n",
       "      <td>Unemployment rate rises in both urban, rural a...</td>\n",
       "      <td>India's unemployment rate soared to 7.14% in t...</td>\n",
       "      <td>business</td>\n",
       "    </tr>\n",
       "    <tr>\n",
       "      <th>4</th>\n",
       "      <td>Govt paid Infosys ₹164.5 crore for new Income ...</td>\n",
       "      <td>The government paid ₹164.5 crore to Infosys to...</td>\n",
       "      <td>business</td>\n",
       "    </tr>\n",
       "    <tr>\n",
       "      <th>...</th>\n",
       "      <td>...</td>\n",
       "      <td>...</td>\n",
       "      <td>...</td>\n",
       "    </tr>\n",
       "    <tr>\n",
       "      <th>142</th>\n",
       "      <td>New Zealand agrees to accept alleged Islamic S...</td>\n",
       "      <td>New Zealand on Monday agreed to repatriate an ...</td>\n",
       "      <td>world</td>\n",
       "    </tr>\n",
       "    <tr>\n",
       "      <th>143</th>\n",
       "      <td>Lebanese lawmakers pick billionaire Najib Mika...</td>\n",
       "      <td>Lebanese lawmakers during parliamentary consul...</td>\n",
       "      <td>world</td>\n",
       "    </tr>\n",
       "    <tr>\n",
       "      <th>144</th>\n",
       "      <td>Equatorial Guinea to close UK embassy over san...</td>\n",
       "      <td>Equatorial Guinea's Foreign Minister said that...</td>\n",
       "      <td>world</td>\n",
       "    </tr>\n",
       "    <tr>\n",
       "      <th>145</th>\n",
       "      <td>46 Afghan soldiers flee to Pakistan in retreat...</td>\n",
       "      <td>The Pakistani Army on Monday said that 46 Afgh...</td>\n",
       "      <td>world</td>\n",
       "    </tr>\n",
       "    <tr>\n",
       "      <th>146</th>\n",
       "      <td>Tunisian Prez dismisses PM, suspends Parliamen...</td>\n",
       "      <td>Tunisia's President Kais Saied on Sunday dismi...</td>\n",
       "      <td>world</td>\n",
       "    </tr>\n",
       "  </tbody>\n",
       "</table>\n",
       "<p>147 rows × 3 columns</p>\n",
       "</div>"
      ],
      "text/plain": [
       "                                                 title  \\\n",
       "0    China's ex-teacher turned billionaire no more ...   \n",
       "1    Amazon job posting fuels speculations about pl...   \n",
       "2    Musk takes a jibe at rival car companies, says...   \n",
       "3    Unemployment rate rises in both urban, rural a...   \n",
       "4    Govt paid Infosys ₹164.5 crore for new Income ...   \n",
       "..                                                 ...   \n",
       "142  New Zealand agrees to accept alleged Islamic S...   \n",
       "143  Lebanese lawmakers pick billionaire Najib Mika...   \n",
       "144  Equatorial Guinea to close UK embassy over san...   \n",
       "145  46 Afghan soldiers flee to Pakistan in retreat...   \n",
       "146  Tunisian Prez dismisses PM, suspends Parliamen...   \n",
       "\n",
       "                                               content  category  \n",
       "0    China's Larry Chen, a former teacher who becam...  business  \n",
       "1    A new job posting by Amazon has fuelled specul...  business  \n",
       "2    Tesla CEO and the world's second-richest perso...  business  \n",
       "3    India's unemployment rate soared to 7.14% in t...  business  \n",
       "4    The government paid ₹164.5 crore to Infosys to...  business  \n",
       "..                                                 ...       ...  \n",
       "142  New Zealand on Monday agreed to repatriate an ...     world  \n",
       "143  Lebanese lawmakers during parliamentary consul...     world  \n",
       "144  Equatorial Guinea's Foreign Minister said that...     world  \n",
       "145  The Pakistani Army on Monday said that 46 Afgh...     world  \n",
       "146  Tunisia's President Kais Saied on Sunday dismi...     world  \n",
       "\n",
       "[147 rows x 3 columns]"
      ]
     },
     "execution_count": 66,
     "metadata": {},
     "output_type": "execute_result"
    }
   ],
   "source": [
    "df"
   ]
  },
  {
   "cell_type": "code",
   "execution_count": null,
   "metadata": {},
   "outputs": [],
   "source": []
  }
 ],
 "metadata": {
  "kernelspec": {
   "display_name": "Python 3",
   "language": "python",
   "name": "python3"
  },
  "language_info": {
   "codemirror_mode": {
    "name": "ipython",
    "version": 3
   },
   "file_extension": ".py",
   "mimetype": "text/x-python",
   "name": "python",
   "nbconvert_exporter": "python",
   "pygments_lexer": "ipython3",
   "version": "3.8.2"
  }
 },
 "nbformat": 4,
 "nbformat_minor": 4
}
